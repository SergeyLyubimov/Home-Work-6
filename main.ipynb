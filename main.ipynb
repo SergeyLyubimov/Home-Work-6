{
 "cells": [
  {
   "cell_type": "markdown",
   "id": "02e12b6d-7c7d-434e-9a70-c9ad91dae9ed",
   "metadata": {},
   "source": [
    "# Задание\n",
    "\n",
    "Для каждого user_id в файле visit_log.csv определите третий столбец с категорией покупки. Если покупка была, сам файл visit_log.csv изменять не надо.\n",
    "\n",
    "Запишите в файл funnel.csv визиты из файла visit_log.csv, в которых были покупки с указанием категории."
   ]
  },
  {
   "cell_type": "code",
   "execution_count": 1,
   "id": "cbd72968-afde-48bc-9ce7-6f10203251f3",
   "metadata": {},
   "outputs": [],
   "source": [
    "import csv\n",
    "import json"
   ]
  },
  {
   "cell_type": "code",
   "execution_count": 2,
   "id": "7ecec660-3678-497f-9d00-f63ff1b819bc",
   "metadata": {},
   "outputs": [],
   "source": [
    "def get_purchase():\n",
    "    with open('purchase_log.txt', 'r', encoding='UTF-8') as purchase:\n",
    "        p_dict = {}\n",
    "        for p in purchase:\n",
    "            p = json.loads(p.strip())\n",
    "            p_dict[p['user_id']] = p['category']\n",
    "    return p_dict"
   ]
  },
  {
   "cell_type": "code",
   "execution_count": 3,
   "id": "4f34d0f9-c0c7-4170-bf82-197761e60c5b",
   "metadata": {},
   "outputs": [],
   "source": [
    "def join_files():\n",
    "    with open('visit_log.csv', 'r', encoding='UTF-8') as visit, open('funnel.csv', 'w', newline='', encoding='UTF-8') as funnel:\n",
    "        p_dict = get_purchase()\n",
    "        reader = csv.reader(visit, delimiter=\",\")\n",
    "        writer = csv.writer(funnel, delimiter=\",\")\n",
    "        for v in reader:\n",
    "            if p_dict.get(v[0]):\n",
    "                data = v.copy()\n",
    "                data.append(p_dict.get(v[0]))\n",
    "                writer.writerow(data)"
   ]
  },
  {
   "cell_type": "code",
   "execution_count": 4,
   "id": "2dcf98a2-c232-4c15-b3f1-4db5ebd5a110",
   "metadata": {},
   "outputs": [],
   "source": [
    "join_files()"
   ]
  }
 ],
 "metadata": {
  "kernelspec": {
   "display_name": "Python 3 (ipykernel)",
   "language": "python",
   "name": "python3"
  },
  "language_info": {
   "codemirror_mode": {
    "name": "ipython",
    "version": 3
   },
   "file_extension": ".py",
   "mimetype": "text/x-python",
   "name": "python",
   "nbconvert_exporter": "python",
   "pygments_lexer": "ipython3",
   "version": "3.12.7"
  }
 },
 "nbformat": 4,
 "nbformat_minor": 5
}
